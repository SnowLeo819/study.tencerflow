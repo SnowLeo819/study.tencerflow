{
 "cells": [
  {
   "cell_type": "code",
   "execution_count": 1,
   "id": "9ccb7f4e",
   "metadata": {},
   "outputs": [],
   "source": []
  },
  {
   "cell_type": "code",
   "execution_count": null,
   "id": "bbecdaaa",
   "metadata": {},
   "outputs": [],
   "source": [
    "input_data = [[0,0],[0,1],[1,0],[1,1]]\n",
    "\n",
    "w1 = 0.5\n",
    "w2 = 0.4\n",
    "b = 0.1\n",
    "for x1, x2 in import_data:\n",
    "    result = w1*x1 +w2*x2+b\n",
    "    print(result)"
   ]
  }
 ],
 "metadata": {
  "kernelspec": {
   "display_name": "Python 3 (ipykernel)",
   "language": "python",
   "name": "python3"
  },
  "language_info": {
   "codemirror_mode": {
    "name": "ipython",
    "version": 3
   },
   "file_extension": ".py",
   "mimetype": "text/x-python",
   "name": "python",
   "nbconvert_exporter": "python",
   "pygments_lexer": "ipython3",
   "version": "3.9.7"
  }
 },
 "nbformat": 4,
 "nbformat_minor": 5
}
